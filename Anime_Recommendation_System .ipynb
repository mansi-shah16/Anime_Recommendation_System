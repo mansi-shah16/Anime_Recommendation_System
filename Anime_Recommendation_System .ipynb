{
  "nbformat": 4,
  "nbformat_minor": 0,
  "metadata": {
    "colab": {
      "name": "Anime Recommendation System.ipynb",
      "provenance": [],
      "collapsed_sections": []
    },
    "kernelspec": {
      "name": "python3",
      "display_name": "Python 3"
    },
    "language_info": {
      "name": "python"
    }
  },
  "cells": [
    {
      "cell_type": "markdown",
      "source": [
        "**Anime Recommendation System**"
      ],
      "metadata": {
        "id": "Vo-ivG3-S1hs"
      }
    },
    {
      "cell_type": "markdown",
      "source": [
        "Importing Libraries"
      ],
      "metadata": {
        "id": "bjYFh-gwTV_k"
      }
    },
    {
      "cell_type": "code",
      "source": [
        "#Importing Libraries\n",
        "\n",
        "import pandas as pd\n",
        "import numpy as np\n",
        "import scipy as sp\n",
        "from sklearn.metrics.pairwise import cosine_similarity\n",
        "import operator\n",
        "import matplotlib.pyplot as plt\n",
        "%matplotlib inline\n",
        "import seaborn as sns"
      ],
      "metadata": {
        "id": "0TvuNvuGTEiX"
      },
      "execution_count": null,
      "outputs": []
    },
    {
      "cell_type": "markdown",
      "source": [
        "Reading csv file"
      ],
      "metadata": {
        "id": "ptxMRMvCTyv7"
      }
    },
    {
      "cell_type": "code",
      "source": [
        "#Reading anime csv file\n",
        "anime = pd.read_csv('/content/sample_data/anime.csv')"
      ],
      "metadata": {
        "id": "s8jKfk0kTxSy"
      },
      "execution_count": null,
      "outputs": []
    },
    {
      "cell_type": "code",
      "source": [
        "#Reading rating csv file\n",
        "rating = pd.read_csv('/content/sample_data/rating.csv')"
      ],
      "metadata": {
        "id": "Ixr63Z45RSrz"
      },
      "execution_count": null,
      "outputs": []
    },
    {
      "cell_type": "markdown",
      "source": [
        "Displaying data"
      ],
      "metadata": {
        "id": "W6MJdFlOU1UW"
      }
    },
    {
      "cell_type": "code",
      "source": [
        "anime.head().style.background_gradient()"
      ],
      "metadata": {
        "colab": {
          "base_uri": "https://localhost:8080/",
          "height": 380
        },
        "id": "mGsZJjD8UzcR",
        "outputId": "eef99c2f-6965-42ae-d28b-5f9d9fbd2b9e"
      },
      "execution_count": null,
      "outputs": [
        {
          "output_type": "execute_result",
          "data": {
            "text/plain": [
              "<pandas.io.formats.style.Styler at 0x7fca58b1e150>"
            ],
            "text/html": [
              "<style type=\"text/css\">\n",
              "#T_07ee2_row0_col0, #T_07ee2_row0_col5, #T_07ee2_row1_col6 {\n",
              "  background-color: #023858;\n",
              "  color: #f1f1f1;\n",
              "}\n",
              "#T_07ee2_row0_col6 {\n",
              "  background-color: #ece7f2;\n",
              "  color: #000000;\n",
              "}\n",
              "#T_07ee2_row1_col0, #T_07ee2_row2_col6, #T_07ee2_row4_col5 {\n",
              "  background-color: #fff7fb;\n",
              "  color: #000000;\n",
              "}\n",
              "#T_07ee2_row1_col5 {\n",
              "  background-color: #7eadd1;\n",
              "  color: #f1f1f1;\n",
              "}\n",
              "#T_07ee2_row2_col0 {\n",
              "  background-color: #04598c;\n",
              "  color: #f1f1f1;\n",
              "}\n",
              "#T_07ee2_row2_col5 {\n",
              "  background-color: #91b5d6;\n",
              "  color: #000000;\n",
              "}\n",
              "#T_07ee2_row3_col0 {\n",
              "  background-color: #e6e2ef;\n",
              "  color: #000000;\n",
              "}\n",
              "#T_07ee2_row3_col5 {\n",
              "  background-color: #f8f1f8;\n",
              "  color: #000000;\n",
              "}\n",
              "#T_07ee2_row3_col6 {\n",
              "  background-color: #04639b;\n",
              "  color: #f1f1f1;\n",
              "}\n",
              "#T_07ee2_row4_col0 {\n",
              "  background-color: #e0deed;\n",
              "  color: #000000;\n",
              "}\n",
              "#T_07ee2_row4_col6 {\n",
              "  background-color: #f7f0f7;\n",
              "  color: #000000;\n",
              "}\n",
              "</style>\n",
              "<table id=\"T_07ee2_\" class=\"dataframe\">\n",
              "  <thead>\n",
              "    <tr>\n",
              "      <th class=\"blank level0\" >&nbsp;</th>\n",
              "      <th class=\"col_heading level0 col0\" >anime_id</th>\n",
              "      <th class=\"col_heading level0 col1\" >name</th>\n",
              "      <th class=\"col_heading level0 col2\" >genre</th>\n",
              "      <th class=\"col_heading level0 col3\" >type</th>\n",
              "      <th class=\"col_heading level0 col4\" >episodes</th>\n",
              "      <th class=\"col_heading level0 col5\" >rating</th>\n",
              "      <th class=\"col_heading level0 col6\" >members</th>\n",
              "    </tr>\n",
              "  </thead>\n",
              "  <tbody>\n",
              "    <tr>\n",
              "      <th id=\"T_07ee2_level0_row0\" class=\"row_heading level0 row0\" >0</th>\n",
              "      <td id=\"T_07ee2_row0_col0\" class=\"data row0 col0\" >32281</td>\n",
              "      <td id=\"T_07ee2_row0_col1\" class=\"data row0 col1\" >Kimi no Na wa.</td>\n",
              "      <td id=\"T_07ee2_row0_col2\" class=\"data row0 col2\" >Drama, Romance, School, Supernatural</td>\n",
              "      <td id=\"T_07ee2_row0_col3\" class=\"data row0 col3\" >Movie</td>\n",
              "      <td id=\"T_07ee2_row0_col4\" class=\"data row0 col4\" >1</td>\n",
              "      <td id=\"T_07ee2_row0_col5\" class=\"data row0 col5\" >9.370000</td>\n",
              "      <td id=\"T_07ee2_row0_col6\" class=\"data row0 col6\" >200630</td>\n",
              "    </tr>\n",
              "    <tr>\n",
              "      <th id=\"T_07ee2_level0_row1\" class=\"row_heading level0 row1\" >1</th>\n",
              "      <td id=\"T_07ee2_row1_col0\" class=\"data row1 col0\" >5114</td>\n",
              "      <td id=\"T_07ee2_row1_col1\" class=\"data row1 col1\" >Fullmetal Alchemist: Brotherhood</td>\n",
              "      <td id=\"T_07ee2_row1_col2\" class=\"data row1 col2\" >Action, Adventure, Drama, Fantasy, Magic, Military, Shounen</td>\n",
              "      <td id=\"T_07ee2_row1_col3\" class=\"data row1 col3\" >TV</td>\n",
              "      <td id=\"T_07ee2_row1_col4\" class=\"data row1 col4\" >64</td>\n",
              "      <td id=\"T_07ee2_row1_col5\" class=\"data row1 col5\" >9.260000</td>\n",
              "      <td id=\"T_07ee2_row1_col6\" class=\"data row1 col6\" >793665</td>\n",
              "    </tr>\n",
              "    <tr>\n",
              "      <th id=\"T_07ee2_level0_row2\" class=\"row_heading level0 row2\" >2</th>\n",
              "      <td id=\"T_07ee2_row2_col0\" class=\"data row2 col0\" >28977</td>\n",
              "      <td id=\"T_07ee2_row2_col1\" class=\"data row2 col1\" >Gintama°</td>\n",
              "      <td id=\"T_07ee2_row2_col2\" class=\"data row2 col2\" >Action, Comedy, Historical, Parody, Samurai, Sci-Fi, Shounen</td>\n",
              "      <td id=\"T_07ee2_row2_col3\" class=\"data row2 col3\" >TV</td>\n",
              "      <td id=\"T_07ee2_row2_col4\" class=\"data row2 col4\" >51</td>\n",
              "      <td id=\"T_07ee2_row2_col5\" class=\"data row2 col5\" >9.250000</td>\n",
              "      <td id=\"T_07ee2_row2_col6\" class=\"data row2 col6\" >114262</td>\n",
              "    </tr>\n",
              "    <tr>\n",
              "      <th id=\"T_07ee2_level0_row3\" class=\"row_heading level0 row3\" >3</th>\n",
              "      <td id=\"T_07ee2_row3_col0\" class=\"data row3 col0\" >9253</td>\n",
              "      <td id=\"T_07ee2_row3_col1\" class=\"data row3 col1\" >Steins;Gate</td>\n",
              "      <td id=\"T_07ee2_row3_col2\" class=\"data row3 col2\" >Sci-Fi, Thriller</td>\n",
              "      <td id=\"T_07ee2_row3_col3\" class=\"data row3 col3\" >TV</td>\n",
              "      <td id=\"T_07ee2_row3_col4\" class=\"data row3 col4\" >24</td>\n",
              "      <td id=\"T_07ee2_row3_col5\" class=\"data row3 col5\" >9.170000</td>\n",
              "      <td id=\"T_07ee2_row3_col6\" class=\"data row3 col6\" >673572</td>\n",
              "    </tr>\n",
              "    <tr>\n",
              "      <th id=\"T_07ee2_level0_row4\" class=\"row_heading level0 row4\" >4</th>\n",
              "      <td id=\"T_07ee2_row4_col0\" class=\"data row4 col0\" >9969</td>\n",
              "      <td id=\"T_07ee2_row4_col1\" class=\"data row4 col1\" >Gintama&#039;</td>\n",
              "      <td id=\"T_07ee2_row4_col2\" class=\"data row4 col2\" >Action, Comedy, Historical, Parody, Samurai, Sci-Fi, Shounen</td>\n",
              "      <td id=\"T_07ee2_row4_col3\" class=\"data row4 col3\" >TV</td>\n",
              "      <td id=\"T_07ee2_row4_col4\" class=\"data row4 col4\" >51</td>\n",
              "      <td id=\"T_07ee2_row4_col5\" class=\"data row4 col5\" >9.160000</td>\n",
              "      <td id=\"T_07ee2_row4_col6\" class=\"data row4 col6\" >151266</td>\n",
              "    </tr>\n",
              "  </tbody>\n",
              "</table>\n"
            ]
          },
          "metadata": {},
          "execution_count": 5
        }
      ]
    },
    {
      "cell_type": "code",
      "source": [
        "rating.head().style.background_gradient()"
      ],
      "metadata": {
        "id": "il6-dzSPU__X",
        "colab": {
          "base_uri": "https://localhost:8080/",
          "height": 206
        },
        "outputId": "4815d339-f133-4709-bdb0-e1f935c5fb14"
      },
      "execution_count": null,
      "outputs": [
        {
          "output_type": "execute_result",
          "data": {
            "text/plain": [
              "<pandas.io.formats.style.Styler at 0x7fca5878f810>"
            ],
            "text/html": [
              "<style type=\"text/css\">\n",
              "#T_47e2f_row0_col0, #T_47e2f_row0_col1, #T_47e2f_row0_col2, #T_47e2f_row1_col0, #T_47e2f_row1_col2, #T_47e2f_row2_col0, #T_47e2f_row2_col2, #T_47e2f_row3_col0, #T_47e2f_row3_col2, #T_47e2f_row4_col0, #T_47e2f_row4_col2 {\n",
              "  background-color: #fff7fb;\n",
              "  color: #000000;\n",
              "}\n",
              "#T_47e2f_row1_col1 {\n",
              "  background-color: #fdf5fa;\n",
              "  color: #000000;\n",
              "}\n",
              "#T_47e2f_row2_col1 {\n",
              "  background-color: #cacee5;\n",
              "  color: #000000;\n",
              "}\n",
              "#T_47e2f_row3_col1 {\n",
              "  background-color: #034a74;\n",
              "  color: #f1f1f1;\n",
              "}\n",
              "#T_47e2f_row4_col1 {\n",
              "  background-color: #023858;\n",
              "  color: #f1f1f1;\n",
              "}\n",
              "</style>\n",
              "<table id=\"T_47e2f_\" class=\"dataframe\">\n",
              "  <thead>\n",
              "    <tr>\n",
              "      <th class=\"blank level0\" >&nbsp;</th>\n",
              "      <th class=\"col_heading level0 col0\" >user_id</th>\n",
              "      <th class=\"col_heading level0 col1\" >anime_id</th>\n",
              "      <th class=\"col_heading level0 col2\" >rating</th>\n",
              "    </tr>\n",
              "  </thead>\n",
              "  <tbody>\n",
              "    <tr>\n",
              "      <th id=\"T_47e2f_level0_row0\" class=\"row_heading level0 row0\" >0</th>\n",
              "      <td id=\"T_47e2f_row0_col0\" class=\"data row0 col0\" >1</td>\n",
              "      <td id=\"T_47e2f_row0_col1\" class=\"data row0 col1\" >20</td>\n",
              "      <td id=\"T_47e2f_row0_col2\" class=\"data row0 col2\" >-1</td>\n",
              "    </tr>\n",
              "    <tr>\n",
              "      <th id=\"T_47e2f_level0_row1\" class=\"row_heading level0 row1\" >1</th>\n",
              "      <td id=\"T_47e2f_row1_col0\" class=\"data row1 col0\" >1</td>\n",
              "      <td id=\"T_47e2f_row1_col1\" class=\"data row1 col1\" >24</td>\n",
              "      <td id=\"T_47e2f_row1_col2\" class=\"data row1 col2\" >-1</td>\n",
              "    </tr>\n",
              "    <tr>\n",
              "      <th id=\"T_47e2f_level0_row2\" class=\"row_heading level0 row2\" >2</th>\n",
              "      <td id=\"T_47e2f_row2_col0\" class=\"data row2 col0\" >1</td>\n",
              "      <td id=\"T_47e2f_row2_col1\" class=\"data row2 col1\" >79</td>\n",
              "      <td id=\"T_47e2f_row2_col2\" class=\"data row2 col2\" >-1</td>\n",
              "    </tr>\n",
              "    <tr>\n",
              "      <th id=\"T_47e2f_level0_row3\" class=\"row_heading level0 row3\" >3</th>\n",
              "      <td id=\"T_47e2f_row3_col0\" class=\"data row3 col0\" >1</td>\n",
              "      <td id=\"T_47e2f_row3_col1\" class=\"data row3 col1\" >226</td>\n",
              "      <td id=\"T_47e2f_row3_col2\" class=\"data row3 col2\" >-1</td>\n",
              "    </tr>\n",
              "    <tr>\n",
              "      <th id=\"T_47e2f_level0_row4\" class=\"row_heading level0 row4\" >4</th>\n",
              "      <td id=\"T_47e2f_row4_col0\" class=\"data row4 col0\" >1</td>\n",
              "      <td id=\"T_47e2f_row4_col1\" class=\"data row4 col1\" >241</td>\n",
              "      <td id=\"T_47e2f_row4_col2\" class=\"data row4 col2\" >-1</td>\n",
              "    </tr>\n",
              "  </tbody>\n",
              "</table>\n"
            ]
          },
          "metadata": {},
          "execution_count": 6
        }
      ]
    },
    {
      "cell_type": "markdown",
      "source": [
        "Information about data"
      ],
      "metadata": {
        "id": "qqGW6IEMWGvL"
      }
    },
    {
      "cell_type": "code",
      "source": [
        "anime.info()"
      ],
      "metadata": {
        "colab": {
          "base_uri": "https://localhost:8080/"
        },
        "id": "dOWsiYnvWKmL",
        "outputId": "92d52405-1fe1-4f71-9cab-5a1f456e1481"
      },
      "execution_count": null,
      "outputs": [
        {
          "output_type": "stream",
          "name": "stdout",
          "text": [
            "<class 'pandas.core.frame.DataFrame'>\n",
            "RangeIndex: 12294 entries, 0 to 12293\n",
            "Data columns (total 7 columns):\n",
            " #   Column    Non-Null Count  Dtype  \n",
            "---  ------    --------------  -----  \n",
            " 0   anime_id  12294 non-null  int64  \n",
            " 1   name      12294 non-null  object \n",
            " 2   genre     12232 non-null  object \n",
            " 3   type      12269 non-null  object \n",
            " 4   episodes  12294 non-null  object \n",
            " 5   rating    12064 non-null  float64\n",
            " 6   members   12294 non-null  int64  \n",
            "dtypes: float64(1), int64(2), object(4)\n",
            "memory usage: 672.5+ KB\n"
          ]
        }
      ]
    },
    {
      "cell_type": "code",
      "source": [
        "rating.info()"
      ],
      "metadata": {
        "colab": {
          "base_uri": "https://localhost:8080/"
        },
        "id": "qR58b8odWhQL",
        "outputId": "5e71b63c-1f04-4304-b1f5-f3e67e439ac2"
      },
      "execution_count": null,
      "outputs": [
        {
          "output_type": "stream",
          "name": "stdout",
          "text": [
            "<class 'pandas.core.frame.DataFrame'>\n",
            "RangeIndex: 7813737 entries, 0 to 7813736\n",
            "Data columns (total 3 columns):\n",
            " #   Column    Dtype\n",
            "---  ------    -----\n",
            " 0   user_id   int64\n",
            " 1   anime_id  int64\n",
            " 2   rating    int64\n",
            "dtypes: int64(3)\n",
            "memory usage: 178.8 MB\n"
          ]
        }
      ]
    },
    {
      "cell_type": "markdown",
      "source": [
        "Describing data"
      ],
      "metadata": {
        "id": "Hop2ZfFUXdhi"
      }
    },
    {
      "cell_type": "code",
      "source": [
        "def above_zero(val):\n",
        "    color = 'blue' if val > 0 else 'red'\n",
        "    return 'color: %s' % color\n",
        "anime.describe().style.applymap(above_zero)"
      ],
      "metadata": {
        "colab": {
          "base_uri": "https://localhost:8080/",
          "height": 300
        },
        "id": "l7IdIi5gXgFx",
        "outputId": "0f2e26c2-5193-4e47-dbdb-a55a58773d45"
      },
      "execution_count": null,
      "outputs": [
        {
          "output_type": "execute_result",
          "data": {
            "text/plain": [
              "<pandas.io.formats.style.Styler at 0x7fca5878ff90>"
            ],
            "text/html": [
              "<style type=\"text/css\">\n",
              "#T_92abe_row0_col0, #T_92abe_row0_col1, #T_92abe_row0_col2, #T_92abe_row1_col0, #T_92abe_row1_col1, #T_92abe_row1_col2, #T_92abe_row2_col0, #T_92abe_row2_col1, #T_92abe_row2_col2, #T_92abe_row3_col0, #T_92abe_row3_col1, #T_92abe_row3_col2, #T_92abe_row4_col0, #T_92abe_row4_col1, #T_92abe_row4_col2, #T_92abe_row5_col0, #T_92abe_row5_col1, #T_92abe_row5_col2, #T_92abe_row6_col0, #T_92abe_row6_col1, #T_92abe_row6_col2, #T_92abe_row7_col0, #T_92abe_row7_col1, #T_92abe_row7_col2 {\n",
              "  color: blue;\n",
              "}\n",
              "</style>\n",
              "<table id=\"T_92abe_\" class=\"dataframe\">\n",
              "  <thead>\n",
              "    <tr>\n",
              "      <th class=\"blank level0\" >&nbsp;</th>\n",
              "      <th class=\"col_heading level0 col0\" >anime_id</th>\n",
              "      <th class=\"col_heading level0 col1\" >rating</th>\n",
              "      <th class=\"col_heading level0 col2\" >members</th>\n",
              "    </tr>\n",
              "  </thead>\n",
              "  <tbody>\n",
              "    <tr>\n",
              "      <th id=\"T_92abe_level0_row0\" class=\"row_heading level0 row0\" >count</th>\n",
              "      <td id=\"T_92abe_row0_col0\" class=\"data row0 col0\" >12294.000000</td>\n",
              "      <td id=\"T_92abe_row0_col1\" class=\"data row0 col1\" >12064.000000</td>\n",
              "      <td id=\"T_92abe_row0_col2\" class=\"data row0 col2\" >12294.000000</td>\n",
              "    </tr>\n",
              "    <tr>\n",
              "      <th id=\"T_92abe_level0_row1\" class=\"row_heading level0 row1\" >mean</th>\n",
              "      <td id=\"T_92abe_row1_col0\" class=\"data row1 col0\" >14058.221653</td>\n",
              "      <td id=\"T_92abe_row1_col1\" class=\"data row1 col1\" >6.473902</td>\n",
              "      <td id=\"T_92abe_row1_col2\" class=\"data row1 col2\" >18071.338864</td>\n",
              "    </tr>\n",
              "    <tr>\n",
              "      <th id=\"T_92abe_level0_row2\" class=\"row_heading level0 row2\" >std</th>\n",
              "      <td id=\"T_92abe_row2_col0\" class=\"data row2 col0\" >11455.294701</td>\n",
              "      <td id=\"T_92abe_row2_col1\" class=\"data row2 col1\" >1.026746</td>\n",
              "      <td id=\"T_92abe_row2_col2\" class=\"data row2 col2\" >54820.676925</td>\n",
              "    </tr>\n",
              "    <tr>\n",
              "      <th id=\"T_92abe_level0_row3\" class=\"row_heading level0 row3\" >min</th>\n",
              "      <td id=\"T_92abe_row3_col0\" class=\"data row3 col0\" >1.000000</td>\n",
              "      <td id=\"T_92abe_row3_col1\" class=\"data row3 col1\" >1.670000</td>\n",
              "      <td id=\"T_92abe_row3_col2\" class=\"data row3 col2\" >5.000000</td>\n",
              "    </tr>\n",
              "    <tr>\n",
              "      <th id=\"T_92abe_level0_row4\" class=\"row_heading level0 row4\" >25%</th>\n",
              "      <td id=\"T_92abe_row4_col0\" class=\"data row4 col0\" >3484.250000</td>\n",
              "      <td id=\"T_92abe_row4_col1\" class=\"data row4 col1\" >5.880000</td>\n",
              "      <td id=\"T_92abe_row4_col2\" class=\"data row4 col2\" >225.000000</td>\n",
              "    </tr>\n",
              "    <tr>\n",
              "      <th id=\"T_92abe_level0_row5\" class=\"row_heading level0 row5\" >50%</th>\n",
              "      <td id=\"T_92abe_row5_col0\" class=\"data row5 col0\" >10260.500000</td>\n",
              "      <td id=\"T_92abe_row5_col1\" class=\"data row5 col1\" >6.570000</td>\n",
              "      <td id=\"T_92abe_row5_col2\" class=\"data row5 col2\" >1550.000000</td>\n",
              "    </tr>\n",
              "    <tr>\n",
              "      <th id=\"T_92abe_level0_row6\" class=\"row_heading level0 row6\" >75%</th>\n",
              "      <td id=\"T_92abe_row6_col0\" class=\"data row6 col0\" >24794.500000</td>\n",
              "      <td id=\"T_92abe_row6_col1\" class=\"data row6 col1\" >7.180000</td>\n",
              "      <td id=\"T_92abe_row6_col2\" class=\"data row6 col2\" >9437.000000</td>\n",
              "    </tr>\n",
              "    <tr>\n",
              "      <th id=\"T_92abe_level0_row7\" class=\"row_heading level0 row7\" >max</th>\n",
              "      <td id=\"T_92abe_row7_col0\" class=\"data row7 col0\" >34527.000000</td>\n",
              "      <td id=\"T_92abe_row7_col1\" class=\"data row7 col1\" >10.000000</td>\n",
              "      <td id=\"T_92abe_row7_col2\" class=\"data row7 col2\" >1013917.000000</td>\n",
              "    </tr>\n",
              "  </tbody>\n",
              "</table>\n"
            ]
          },
          "metadata": {},
          "execution_count": 9
        }
      ]
    },
    {
      "cell_type": "code",
      "source": [
        "def above_zero(val):\n",
        "    color = 'blue' if val > 0 else 'red'\n",
        "    return 'color: %s' % color\n",
        "rating.describe().style.applymap(above_zero)"
      ],
      "metadata": {
        "id": "ogZCx1JWXn4J",
        "colab": {
          "base_uri": "https://localhost:8080/",
          "height": 300
        },
        "outputId": "3867e7fc-8cf1-4f3d-9aba-0c3a8f874b8c"
      },
      "execution_count": null,
      "outputs": [
        {
          "output_type": "execute_result",
          "data": {
            "text/plain": [
              "<pandas.io.formats.style.Styler at 0x7fca58784890>"
            ],
            "text/html": [
              "<style type=\"text/css\">\n",
              "#T_40843_row0_col0, #T_40843_row0_col1, #T_40843_row0_col2, #T_40843_row1_col0, #T_40843_row1_col1, #T_40843_row1_col2, #T_40843_row2_col0, #T_40843_row2_col1, #T_40843_row2_col2, #T_40843_row3_col0, #T_40843_row3_col1, #T_40843_row4_col0, #T_40843_row4_col1, #T_40843_row4_col2, #T_40843_row5_col0, #T_40843_row5_col1, #T_40843_row5_col2, #T_40843_row6_col0, #T_40843_row6_col1, #T_40843_row6_col2, #T_40843_row7_col0, #T_40843_row7_col1, #T_40843_row7_col2 {\n",
              "  color: blue;\n",
              "}\n",
              "#T_40843_row3_col2 {\n",
              "  color: red;\n",
              "}\n",
              "</style>\n",
              "<table id=\"T_40843_\" class=\"dataframe\">\n",
              "  <thead>\n",
              "    <tr>\n",
              "      <th class=\"blank level0\" >&nbsp;</th>\n",
              "      <th class=\"col_heading level0 col0\" >user_id</th>\n",
              "      <th class=\"col_heading level0 col1\" >anime_id</th>\n",
              "      <th class=\"col_heading level0 col2\" >rating</th>\n",
              "    </tr>\n",
              "  </thead>\n",
              "  <tbody>\n",
              "    <tr>\n",
              "      <th id=\"T_40843_level0_row0\" class=\"row_heading level0 row0\" >count</th>\n",
              "      <td id=\"T_40843_row0_col0\" class=\"data row0 col0\" >7813737.000000</td>\n",
              "      <td id=\"T_40843_row0_col1\" class=\"data row0 col1\" >7813737.000000</td>\n",
              "      <td id=\"T_40843_row0_col2\" class=\"data row0 col2\" >7813737.000000</td>\n",
              "    </tr>\n",
              "    <tr>\n",
              "      <th id=\"T_40843_level0_row1\" class=\"row_heading level0 row1\" >mean</th>\n",
              "      <td id=\"T_40843_row1_col0\" class=\"data row1 col0\" >36727.956745</td>\n",
              "      <td id=\"T_40843_row1_col1\" class=\"data row1 col1\" >8909.072104</td>\n",
              "      <td id=\"T_40843_row1_col2\" class=\"data row1 col2\" >6.144030</td>\n",
              "    </tr>\n",
              "    <tr>\n",
              "      <th id=\"T_40843_level0_row2\" class=\"row_heading level0 row2\" >std</th>\n",
              "      <td id=\"T_40843_row2_col0\" class=\"data row2 col0\" >20997.946119</td>\n",
              "      <td id=\"T_40843_row2_col1\" class=\"data row2 col1\" >8883.949636</td>\n",
              "      <td id=\"T_40843_row2_col2\" class=\"data row2 col2\" >3.727800</td>\n",
              "    </tr>\n",
              "    <tr>\n",
              "      <th id=\"T_40843_level0_row3\" class=\"row_heading level0 row3\" >min</th>\n",
              "      <td id=\"T_40843_row3_col0\" class=\"data row3 col0\" >1.000000</td>\n",
              "      <td id=\"T_40843_row3_col1\" class=\"data row3 col1\" >1.000000</td>\n",
              "      <td id=\"T_40843_row3_col2\" class=\"data row3 col2\" >-1.000000</td>\n",
              "    </tr>\n",
              "    <tr>\n",
              "      <th id=\"T_40843_level0_row4\" class=\"row_heading level0 row4\" >25%</th>\n",
              "      <td id=\"T_40843_row4_col0\" class=\"data row4 col0\" >18974.000000</td>\n",
              "      <td id=\"T_40843_row4_col1\" class=\"data row4 col1\" >1240.000000</td>\n",
              "      <td id=\"T_40843_row4_col2\" class=\"data row4 col2\" >6.000000</td>\n",
              "    </tr>\n",
              "    <tr>\n",
              "      <th id=\"T_40843_level0_row5\" class=\"row_heading level0 row5\" >50%</th>\n",
              "      <td id=\"T_40843_row5_col0\" class=\"data row5 col0\" >36791.000000</td>\n",
              "      <td id=\"T_40843_row5_col1\" class=\"data row5 col1\" >6213.000000</td>\n",
              "      <td id=\"T_40843_row5_col2\" class=\"data row5 col2\" >7.000000</td>\n",
              "    </tr>\n",
              "    <tr>\n",
              "      <th id=\"T_40843_level0_row6\" class=\"row_heading level0 row6\" >75%</th>\n",
              "      <td id=\"T_40843_row6_col0\" class=\"data row6 col0\" >54757.000000</td>\n",
              "      <td id=\"T_40843_row6_col1\" class=\"data row6 col1\" >14093.000000</td>\n",
              "      <td id=\"T_40843_row6_col2\" class=\"data row6 col2\" >9.000000</td>\n",
              "    </tr>\n",
              "    <tr>\n",
              "      <th id=\"T_40843_level0_row7\" class=\"row_heading level0 row7\" >max</th>\n",
              "      <td id=\"T_40843_row7_col0\" class=\"data row7 col0\" >73516.000000</td>\n",
              "      <td id=\"T_40843_row7_col1\" class=\"data row7 col1\" >34519.000000</td>\n",
              "      <td id=\"T_40843_row7_col2\" class=\"data row7 col2\" >10.000000</td>\n",
              "    </tr>\n",
              "  </tbody>\n",
              "</table>\n"
            ]
          },
          "metadata": {},
          "execution_count": 10
        }
      ]
    },
    {
      "cell_type": "code",
      "source": [
        "#counting no of ratings\n",
        "rating.rating.value_counts()"
      ],
      "metadata": {
        "id": "Del96uqHXtsQ",
        "colab": {
          "base_uri": "https://localhost:8080/"
        },
        "outputId": "0cdd2605-dab4-41d2-f2a2-9c374c3d1ad4"
      },
      "execution_count": null,
      "outputs": [
        {
          "output_type": "execute_result",
          "data": {
            "text/plain": [
              " 8     1646019\n",
              "-1     1476496\n",
              " 7     1375287\n",
              " 9     1254096\n",
              " 10     955715\n",
              " 6      637775\n",
              " 5      282806\n",
              " 4      104291\n",
              " 3       41453\n",
              " 2       23150\n",
              " 1       16649\n",
              "Name: rating, dtype: int64"
            ]
          },
          "metadata": {},
          "execution_count": 11
        }
      ]
    },
    {
      "cell_type": "code",
      "source": [
        "#-1 means no rating so removing -1 rows\n",
        "rating = rating[rating[\"rating\"] != -1]"
      ],
      "metadata": {
        "id": "41quXaecTjJT"
      },
      "execution_count": null,
      "outputs": []
    },
    {
      "cell_type": "code",
      "source": [
        "rating.rating.value_counts()"
      ],
      "metadata": {
        "colab": {
          "base_uri": "https://localhost:8080/"
        },
        "id": "vCHZ5NZVYFlL",
        "outputId": "66d0083a-ee85-44ac-fda8-71501c37e734"
      },
      "execution_count": null,
      "outputs": [
        {
          "output_type": "execute_result",
          "data": {
            "text/plain": [
              "8     1646019\n",
              "7     1375287\n",
              "9     1254096\n",
              "10     955715\n",
              "6      637775\n",
              "5      282806\n",
              "4      104291\n",
              "3       41453\n",
              "2       23150\n",
              "1       16649\n",
              "Name: rating, dtype: int64"
            ]
          },
          "metadata": {},
          "execution_count": 13
        }
      ]
    },
    {
      "cell_type": "code",
      "source": [
        "#shaping the data\n",
        "print(f\"anime.csv - rows: {anime.shape[0]}, columns: {anime.shape[1]}\")\n",
        "print(f\"rating.csv - rows: {rating.shape[0]}, columns: {rating.shape[1]}\")"
      ],
      "metadata": {
        "colab": {
          "base_uri": "https://localhost:8080/"
        },
        "id": "gygEdUxCXokU",
        "outputId": "38338cb0-bace-46a8-eaad-3cd77e6e1261"
      },
      "execution_count": null,
      "outputs": [
        {
          "output_type": "stream",
          "name": "stdout",
          "text": [
            "anime.csv - rows: 12294, columns: 7\n",
            "rating.csv - rows: 6337241, columns: 3\n"
          ]
        }
      ]
    },
    {
      "cell_type": "markdown",
      "source": [
        "Finding missing values"
      ],
      "metadata": {
        "id": "txzkMKN-UQXz"
      }
    },
    {
      "cell_type": "code",
      "source": [
        "isnull=print(anime.isnull())"
      ],
      "metadata": {
        "colab": {
          "base_uri": "https://localhost:8080/"
        },
        "id": "j4mDb6yVUP9L",
        "outputId": "5a89552b-1ce1-447a-cc34-41b6a455316a"
      },
      "execution_count": null,
      "outputs": [
        {
          "output_type": "stream",
          "name": "stdout",
          "text": [
            "       anime_id   name  genre   type  episodes  rating  members\n",
            "0         False  False  False  False     False   False    False\n",
            "1         False  False  False  False     False   False    False\n",
            "2         False  False  False  False     False   False    False\n",
            "3         False  False  False  False     False   False    False\n",
            "4         False  False  False  False     False   False    False\n",
            "...         ...    ...    ...    ...       ...     ...      ...\n",
            "12289     False  False  False  False     False   False    False\n",
            "12290     False  False  False  False     False   False    False\n",
            "12291     False  False  False  False     False   False    False\n",
            "12292     False  False  False  False     False   False    False\n",
            "12293     False  False  False  False     False   False    False\n",
            "\n",
            "[12294 rows x 7 columns]\n"
          ]
        }
      ]
    },
    {
      "cell_type": "code",
      "source": [
        "print(rating.isnull())"
      ],
      "metadata": {
        "colab": {
          "base_uri": "https://localhost:8080/"
        },
        "id": "RDUwozK-UnwS",
        "outputId": "f30105a7-4ae0-4911-d257-e36a87113338"
      },
      "execution_count": null,
      "outputs": [
        {
          "output_type": "stream",
          "name": "stdout",
          "text": [
            "         user_id  anime_id  rating\n",
            "47         False     False   False\n",
            "81         False     False   False\n",
            "83         False     False   False\n",
            "101        False     False   False\n",
            "153        False     False   False\n",
            "...          ...       ...     ...\n",
            "7813732    False     False   False\n",
            "7813733    False     False   False\n",
            "7813734    False     False   False\n",
            "7813735    False     False   False\n",
            "7813736    False     False   False\n",
            "\n",
            "[6337241 rows x 3 columns]\n"
          ]
        }
      ]
    },
    {
      "cell_type": "code",
      "source": [
        "plt.figure(figsize=(10,10))\n",
        "sns.heatmap(anime.isnull())\n",
        "plt.title(\"Missing values in anime?\", fontsize = 15)\n",
        "plt.show()"
      ],
      "metadata": {
        "colab": {
          "base_uri": "https://localhost:8080/",
          "height": 610
        },
        "id": "xHPqWXt-YZGj",
        "outputId": "92ea964e-66f4-4753-9998-b9d52bba01dc"
      },
      "execution_count": null,
      "outputs": [
        {
          "output_type": "display_data",
          "data": {
            "text/plain": [
              "<Figure size 720x720 with 2 Axes>"
            ],
            "image/png": "[encoded data removed]"
          },
          "metadata": {
            "needs_background": "light"
          }
        }
      ]
    },
    {
      "cell_type": "code",
      "source": [
        "plt.figure(figsize=(10,10))\n",
        "sns.heatmap(rating.isnull())\n",
        "plt.title(\"Missing values in rating?\", fontsize = 15)\n",
        "plt.show()"
      ],
      "metadata": {
        "colab": {
          "base_uri": "https://localhost:8080/",
          "height": 610
        },
        "id": "-aqQzF6sZGr7",
        "outputId": "be377d50-f15f-47e9-90ae-8bb241494930"
      },
      "execution_count": null,
      "outputs": [
        {
          "output_type": "display_data",
          "data": {
            "text/plain": [
              "<Figure size 720x720 with 2 Axes>"
            ],
            "image/png": "[encoded data removed]"
          },
          "metadata": {
            "needs_background": "light"
          }
        }
      ]
    },
    {
      "cell_type": "markdown",
      "source": [
        "Prepare data"
      ],
      "metadata": {
        "id": "9c2ziiPVZb1i"
      }
    },
    {
      "cell_type": "code",
      "source": [
        "# Merging anime and rating using \"anime_id\" as reference\n",
        "# Only the columns we will use\n",
        "df = pd.merge(rating,anime[[\"anime_id\",\"name\"]], left_on = \"anime_id\", right_on = \"anime_id\").drop(\"anime_id\", axis = 1)\n",
        "df.rename(columns = {'rating_user':'user_rating'}, inplace = True)\n",
        "df.head().style.background_gradient()"
      ],
      "metadata": {
        "colab": {
          "base_uri": "https://localhost:8080/",
          "height": 206
        },
        "id": "vtlFkqrKZeY7",
        "outputId": "79c1ff4b-8748-443d-f31a-b589a4c2e337"
      },
      "execution_count": null,
      "outputs": [
        {
          "output_type": "execute_result",
          "data": {
            "text/plain": [
              "<pandas.io.formats.style.Styler at 0x7fca5586d150>"
            ],
            "text/html": [
              "<style type=\"text/css\">\n",
              "#T_0929a_row0_col0, #T_0929a_row2_col1 {\n",
              "  background-color: #fff7fb;\n",
              "  color: #000000;\n",
              "}\n",
              "#T_0929a_row0_col1, #T_0929a_row4_col0 {\n",
              "  background-color: #023858;\n",
              "  color: #f1f1f1;\n",
              "}\n",
              "#T_0929a_row1_col0 {\n",
              "  background-color: #e6e2ef;\n",
              "  color: #000000;\n",
              "}\n",
              "#T_0929a_row1_col1, #T_0929a_row3_col1, #T_0929a_row4_col1 {\n",
              "  background-color: #73a9cf;\n",
              "  color: #f1f1f1;\n",
              "}\n",
              "#T_0929a_row2_col0 {\n",
              "  background-color: #bdc8e1;\n",
              "  color: #000000;\n",
              "}\n",
              "#T_0929a_row3_col0 {\n",
              "  background-color: #045f95;\n",
              "  color: #f1f1f1;\n",
              "}\n",
              "</style>\n",
              "<table id=\"T_0929a_\" class=\"dataframe\">\n",
              "  <thead>\n",
              "    <tr>\n",
              "      <th class=\"blank level0\" >&nbsp;</th>\n",
              "      <th class=\"col_heading level0 col0\" >user_id</th>\n",
              "      <th class=\"col_heading level0 col1\" >rating</th>\n",
              "      <th class=\"col_heading level0 col2\" >name</th>\n",
              "    </tr>\n",
              "  </thead>\n",
              "  <tbody>\n",
              "    <tr>\n",
              "      <th id=\"T_0929a_level0_row0\" class=\"row_heading level0 row0\" >0</th>\n",
              "      <td id=\"T_0929a_row0_col0\" class=\"data row0 col0\" >1</td>\n",
              "      <td id=\"T_0929a_row0_col1\" class=\"data row0 col1\" >10</td>\n",
              "      <td id=\"T_0929a_row0_col2\" class=\"data row0 col2\" >Highschool of the Dead</td>\n",
              "    </tr>\n",
              "    <tr>\n",
              "      <th id=\"T_0929a_level0_row1\" class=\"row_heading level0 row1\" >1</th>\n",
              "      <td id=\"T_0929a_row1_col0\" class=\"data row1 col0\" >3</td>\n",
              "      <td id=\"T_0929a_row1_col1\" class=\"data row1 col1\" >6</td>\n",
              "      <td id=\"T_0929a_row1_col2\" class=\"data row1 col2\" >Highschool of the Dead</td>\n",
              "    </tr>\n",
              "    <tr>\n",
              "      <th id=\"T_0929a_level0_row2\" class=\"row_heading level0 row2\" >2</th>\n",
              "      <td id=\"T_0929a_row2_col0\" class=\"data row2 col0\" >5</td>\n",
              "      <td id=\"T_0929a_row2_col1\" class=\"data row2 col1\" >2</td>\n",
              "      <td id=\"T_0929a_row2_col2\" class=\"data row2 col2\" >Highschool of the Dead</td>\n",
              "    </tr>\n",
              "    <tr>\n",
              "      <th id=\"T_0929a_level0_row3\" class=\"row_heading level0 row3\" >3</th>\n",
              "      <td id=\"T_0929a_row3_col0\" class=\"data row3 col0\" >12</td>\n",
              "      <td id=\"T_0929a_row3_col1\" class=\"data row3 col1\" >6</td>\n",
              "      <td id=\"T_0929a_row3_col2\" class=\"data row3 col2\" >Highschool of the Dead</td>\n",
              "    </tr>\n",
              "    <tr>\n",
              "      <th id=\"T_0929a_level0_row4\" class=\"row_heading level0 row4\" >4</th>\n",
              "      <td id=\"T_0929a_row4_col0\" class=\"data row4 col0\" >14</td>\n",
              "      <td id=\"T_0929a_row4_col1\" class=\"data row4 col1\" >6</td>\n",
              "      <td id=\"T_0929a_row4_col2\" class=\"data row4 col2\" >Highschool of the Dead</td>\n",
              "    </tr>\n",
              "  </tbody>\n",
              "</table>\n"
            ]
          },
          "metadata": {},
          "execution_count": 19
        }
      ]
    },
    {
      "cell_type": "markdown",
      "source": [
        "Counting the rating for each anime"
      ],
      "metadata": {
        "id": "UcdhcxJ5ZzOs"
      }
    },
    {
      "cell_type": "code",
      "source": [
        "# Counting the number of ratings for each anime\n",
        "count_rating = df.groupby(\"name\")[\"rating\"].count().sort_values(ascending = False)\n",
        "count_rating"
      ],
      "metadata": {
        "colab": {
          "base_uri": "https://localhost:8080/"
        },
        "id": "HENz7HScZu5c",
        "outputId": "5e314ae2-0fc7-42fa-ed31-71afe219885f"
      },
      "execution_count": null,
      "outputs": [
        {
          "output_type": "execute_result",
          "data": {
            "text/plain": [
              "name\n",
              "Death Note                         34226\n",
              "Sword Art Online                   26310\n",
              "Shingeki no Kyojin                 25290\n",
              "Code Geass: Hangyaku no Lelouch    24126\n",
              "Angel Beats!                       23565\n",
              "                                   ...  \n",
              "La Primavera                           1\n",
              "Chou Zenmairobo: Patrasche             1\n",
              "Ushi Atama                             1\n",
              "Gun-dou Musashi Recap                  1\n",
              "Futago no Ookami Daibouken             1\n",
              "Name: rating, Length: 9926, dtype: int64"
            ]
          },
          "metadata": {},
          "execution_count": 20
        }
      ]
    },
    {
      "cell_type": "code",
      "source": [
        "# Some animes have only 1 rating, therefore it is better for the recommender system to ignore them\n",
        "# keeping only the animes with at least r ratings\n",
        "r = 5000\n",
        "more_than_r_ratings = count_rating[count_rating.apply(lambda x: x >= r)].index\n",
        "\n",
        "# Keep only the animes with at least r ratings in the DataFrame\n",
        "df_r = df[df['name'].apply(lambda x: x in more_than_r_ratings)]\n",
        "print(df_r)"
      ],
      "metadata": {
        "colab": {
          "base_uri": "https://localhost:8080/"
        },
        "id": "-fRIMGDhaekE",
        "outputId": "59cf6a70-b0ab-4c2d-b5d2-7b299210eb90"
      },
      "execution_count": null,
      "outputs": [
        {
          "output_type": "stream",
          "name": "stdout",
          "text": [
            "         user_id  rating                    name\n",
            "0              1      10  Highschool of the Dead\n",
            "1              3       6  Highschool of the Dead\n",
            "2              5       2  Highschool of the Dead\n",
            "3             12       6  Highschool of the Dead\n",
            "4             14       6  Highschool of the Dead\n",
            "...          ...     ...                     ...\n",
            "4999396    73458       7                Shuffle!\n",
            "4999397    73460       6                Shuffle!\n",
            "4999398    73499       7                Shuffle!\n",
            "4999399    73501      10                Shuffle!\n",
            "4999400    73502       1                Shuffle!\n",
            "\n",
            "[2517097 rows x 3 columns]\n"
          ]
        }
      ]
    },
    {
      "cell_type": "markdown",
      "source": [
        "Filtering the data"
      ],
      "metadata": {
        "id": "sXBi17Etjk6E"
      }
    },
    {
      "cell_type": "code",
      "source": [
        "before = len(df.name.unique())\n",
        "after = len(df_r.name.unique())\n",
        "rows_before = df.shape[0]\n",
        "rows_after = df_r.shape[0]\n",
        "print(f'''There are {before} animes in the dataset before filtering and {after} animes after the filtering.\n",
        "\n",
        "{before} animes => {after} animes\n",
        "{rows_before} rows before filtering => {rows_after} rows after filtering''')"
      ],
      "metadata": {
        "colab": {
          "base_uri": "https://localhost:8080/"
        },
        "id": "SfQPgt84i07c",
        "outputId": "a3242850-20b8-4691-a6ef-682024969f2c"
      },
      "execution_count": null,
      "outputs": [
        {
          "output_type": "stream",
          "name": "stdout",
          "text": [
            "There are 9926 animes in the dataset before filtering and 279 animes after the filtering.\n",
            "\n",
            "9926 animes => 279 animes\n",
            "6337239 rows before filtering => 2517097 rows after filtering\n"
          ]
        }
      ]
    },
    {
      "cell_type": "markdown",
      "source": [
        "**Collabrative Recommendation system**"
      ],
      "metadata": {
        "id": "JRt9RAbwjqUs"
      }
    },
    {
      "cell_type": "code",
      "source": [
        "df=df[['user_id', 'name', 'rating']]\n",
        "df_sub= df[df.user_id <= 5000]\n",
        "df_sub.head()"
      ],
      "metadata": {
        "colab": {
          "base_uri": "https://localhost:8080/",
          "height": 200
        },
        "id": "roYL-P37q_p-",
        "outputId": "eb5f1350-ef36-408e-9dd6-85d639432d30"
      },
      "execution_count": null,
      "outputs": [
        {
          "output_type": "error",
          "ename": "NameError",
          "evalue": "ignored",
          "traceback": [
            "\u001b[0;31m---------------------------------------------------------------------------\u001b[0m",
            "\u001b[0;31mNameError\u001b[0m                                 Traceback (most recent call last)",
            "\u001b[0;32m<ipython-input-1-128554ec11b1>\u001b[0m in \u001b[0;36m<module>\u001b[0;34m()\u001b[0m\n\u001b[0;32m----> 1\u001b[0;31m \u001b[0mdf\u001b[0m\u001b[0;34m=\u001b[0m\u001b[0mdf\u001b[0m\u001b[0;34m[\u001b[0m\u001b[0;34m[\u001b[0m\u001b[0;34m'user_id'\u001b[0m\u001b[0;34m,\u001b[0m \u001b[0;34m'name'\u001b[0m\u001b[0;34m,\u001b[0m \u001b[0;34m'rating'\u001b[0m\u001b[0;34m]\u001b[0m\u001b[0;34m]\u001b[0m\u001b[0;34m\u001b[0m\u001b[0;34m\u001b[0m\u001b[0m\n\u001b[0m\u001b[1;32m      2\u001b[0m \u001b[0mdf_sub\u001b[0m\u001b[0;34m=\u001b[0m \u001b[0mdf\u001b[0m\u001b[0;34m[\u001b[0m\u001b[0mdf\u001b[0m\u001b[0;34m.\u001b[0m\u001b[0muser_id\u001b[0m \u001b[0;34m<=\u001b[0m \u001b[0;36m5000\u001b[0m\u001b[0;34m]\u001b[0m\u001b[0;34m\u001b[0m\u001b[0;34m\u001b[0m\u001b[0m\n\u001b[1;32m      3\u001b[0m \u001b[0mdf_sub\u001b[0m\u001b[0;34m.\u001b[0m\u001b[0mhead\u001b[0m\u001b[0;34m(\u001b[0m\u001b[0;34m)\u001b[0m\u001b[0;34m\u001b[0m\u001b[0;34m\u001b[0m\u001b[0m\n",
            "\u001b[0;31mNameError\u001b[0m: name 'df' is not defined"
          ]
        }
      ]
    },
    {
      "cell_type": "code",
      "source": [
        "# Creating a matrix with userId as rows and the titles of the movies as column.\n",
        "# Each cell will have the rating given by the user to the animes.\n",
        "# There will be a lot of NaN values, because each user hasn't watched most of the animes\n",
        "df_recom = df_r.pivot_table(index='user_id',columns='name',values='rating')\n",
        "df_recom.iloc[:5,:5]"
      ],
      "metadata": {
        "colab": {
          "base_uri": "https://localhost:8080/",
          "height": 238
        },
        "id": "Yi-KovAgjj60",
        "outputId": "db2f3149-6a01-47cb-a556-798fce37932f"
      },
      "execution_count": null,
      "outputs": [
        {
          "output_type": "execute_result",
          "data": {
            "text/plain": [
              "name     Accel World  Afro Samurai  Air  Air Gear  Akame ga Kill!\n",
              "user_id                                                          \n",
              "1                NaN           NaN  NaN       NaN             NaN\n",
              "2                NaN           NaN  NaN       NaN             NaN\n",
              "3                7.0           6.0  NaN       NaN             8.0\n",
              "5                3.0           NaN  NaN       NaN             4.0\n",
              "7                8.0           NaN  NaN       NaN             NaN"
            ],
            "text/html": [
              "\n",
              "  <div id=\"df-3a6f98ee-8ad9-4790-ac33-8923f9ec8895\">\n",
              "    <div class=\"colab-df-container\">\n",
              "      <div>\n",
              "<style scoped>\n",
              "    .dataframe tbody tr th:only-of-type {\n",
              "        vertical-align: middle;\n",
              "    }\n",
              "\n",
              "    .dataframe tbody tr th {\n",
              "        vertical-align: top;\n",
              "    }\n",
              "\n",
              "    .dataframe thead th {\n",
              "        text-align: right;\n",
              "    }\n",
              "</style>\n",
              "<table border=\"1\" class=\"dataframe\">\n",
              "  <thead>\n",
              "    <tr style=\"text-align: right;\">\n",
              "      <th>name</th>\n",
              "      <th>Accel World</th>\n",
              "      <th>Afro Samurai</th>\n",
              "      <th>Air</th>\n",
              "      <th>Air Gear</th>\n",
              "      <th>Akame ga Kill!</th>\n",
              "    </tr>\n",
              "    <tr>\n",
              "      <th>user_id</th>\n",
              "      <th></th>\n",
              "      <th></th>\n",
              "      <th></th>\n",
              "      <th></th>\n",
              "      <th></th>\n",
              "    </tr>\n",
              "  </thead>\n",
              "  <tbody>\n",
              "    <tr>\n",
              "      <th>1</th>\n",
              "      <td>NaN</td>\n",
              "      <td>NaN</td>\n",
              "      <td>NaN</td>\n",
              "      <td>NaN</td>\n",
              "      <td>NaN</td>\n",
              "    </tr>\n",
              "    <tr>\n",
              "      <th>2</th>\n",
              "      <td>NaN</td>\n",
              "      <td>NaN</td>\n",
              "      <td>NaN</td>\n",
              "      <td>NaN</td>\n",
              "      <td>NaN</td>\n",
              "    </tr>\n",
              "    <tr>\n",
              "      <th>3</th>\n",
              "      <td>7.0</td>\n",
              "      <td>6.0</td>\n",
              "      <td>NaN</td>\n",
              "      <td>NaN</td>\n",
              "      <td>8.0</td>\n",
              "    </tr>\n",
              "    <tr>\n",
              "      <th>5</th>\n",
              "      <td>3.0</td>\n",
              "      <td>NaN</td>\n",
              "      <td>NaN</td>\n",
              "      <td>NaN</td>\n",
              "      <td>4.0</td>\n",
              "    </tr>\n",
              "    <tr>\n",
              "      <th>7</th>\n",
              "      <td>8.0</td>\n",
              "      <td>NaN</td>\n",
              "      <td>NaN</td>\n",
              "      <td>NaN</td>\n",
              "      <td>NaN</td>\n",
              "    </tr>\n",
              "  </tbody>\n",
              "</table>\n",
              "</div>\n",
              "      <button class=\"colab-df-convert\" onclick=\"convertToInteractive('df-3a6f98ee-8ad9-4790-ac33-8923f9ec8895')\"\n",
              "              title=\"Convert this dataframe to an interactive table.\"\n",
              "              style=\"display:none;\">\n",
              "        \n",
              "  <svg xmlns=\"http://www.w3.org/2000/svg\" height=\"24px\"viewBox=\"0 0 24 24\"\n",
              "       width=\"24px\">\n",
              "    <path d=\"M0 0h24v24H0V0z\" fill=\"none\"/>\n",
              "    <path d=\"M18.56 5.44l.94 2.06.94-2.06 2.06-.94-2.06-.94-.94-2.06-.94 2.06-2.06.94zm-11 1L8.5 8.5l.94-2.06 2.06-.94-2.06-.94L8.5 2.5l-.94 2.06-2.06.94zm10 10l.94 2.06.94-2.06 2.06-.94-2.06-.94-.94-2.06-.94 2.06-2.06.94z\"/><path d=\"M17.41 7.96l-1.37-1.37c-.4-.4-.92-.59-1.43-.59-.52 0-1.04.2-1.43.59L10.3 9.45l-7.72 7.72c-.78.78-.78 2.05 0 2.83L4 21.41c.39.39.9.59 1.41.59.51 0 1.02-.2 1.41-.59l7.78-7.78 2.81-2.81c.8-.78.8-2.07 0-2.86zM5.41 20L4 18.59l7.72-7.72 1.47 1.35L5.41 20z\"/>\n",
              "  </svg>\n",
              "      </button>\n",
              "      \n",
              "  <style>\n",
              "    .colab-df-container {\n",
              "      display:flex;\n",
              "      flex-wrap:wrap;\n",
              "      gap: 12px;\n",
              "    }\n",
              "\n",
              "    .colab-df-convert {\n",
              "      background-color: #E8F0FE;\n",
              "      border: none;\n",
              "      border-radius: 50%;\n",
              "      cursor: pointer;\n",
              "      display: none;\n",
              "      fill: #1967D2;\n",
              "      height: 32px;\n",
              "      padding: 0 0 0 0;\n",
              "      width: 32px;\n",
              "    }\n",
              "\n",
              "    .colab-df-convert:hover {\n",
              "      background-color: #E2EBFA;\n",
              "      box-shadow: 0px 1px 2px rgba(60, 64, 67, 0.3), 0px 1px 3px 1px rgba(60, 64, 67, 0.15);\n",
              "      fill: #174EA6;\n",
              "    }\n",
              "\n",
              "    [theme=dark] .colab-df-convert {\n",
              "      background-color: #3B4455;\n",
              "      fill: #D2E3FC;\n",
              "    }\n",
              "\n",
              "    [theme=dark] .colab-df-convert:hover {\n",
              "      background-color: #434B5C;\n",
              "      box-shadow: 0px 1px 3px 1px rgba(0, 0, 0, 0.15);\n",
              "      filter: drop-shadow(0px 1px 2px rgba(0, 0, 0, 0.3));\n",
              "      fill: #FFFFFF;\n",
              "    }\n",
              "  </style>\n",
              "\n",
              "      <script>\n",
              "        const buttonEl =\n",
              "          document.querySelector('#df-3a6f98ee-8ad9-4790-ac33-8923f9ec8895 button.colab-df-convert');\n",
              "        buttonEl.style.display =\n",
              "          google.colab.kernel.accessAllowed ? 'block' : 'none';\n",
              "\n",
              "        async function convertToInteractive(key) {\n",
              "          const element = document.querySelector('#df-3a6f98ee-8ad9-4790-ac33-8923f9ec8895');\n",
              "          const dataTable =\n",
              "            await google.colab.kernel.invokeFunction('convertToInteractive',\n",
              "                                                     [key], {});\n",
              "          if (!dataTable) return;\n",
              "\n",
              "          const docLinkHtml = 'Like what you see? Visit the ' +\n",
              "            '<a target=\"_blank\" href=https://colab.research.google.com/notebooks/data_table.ipynb>data table notebook</a>'\n",
              "            + ' to learn more about interactive tables.';\n",
              "          element.innerHTML = '';\n",
              "          dataTable['output_type'] = 'display_data';\n",
              "          await google.colab.output.renderOutput(dataTable, element);\n",
              "          const docLink = document.createElement('div');\n",
              "          docLink.innerHTML = docLinkHtml;\n",
              "          element.appendChild(docLink);\n",
              "        }\n",
              "      </script>\n",
              "    </div>\n",
              "  </div>\n",
              "  "
            ]
          },
          "metadata": {},
          "execution_count": 24
        }
      ]
    },
    {
      "cell_type": "code",
      "source": [
        "print(df_recom.shape)\n",
        "df_recom.head()"
      ],
      "metadata": {
        "colab": {
          "base_uri": "https://localhost:8080/",
          "height": 435
        },
        "id": "_uSlWo7xpol1",
        "outputId": "a5fcf010-c9a6-49d7-badf-77931bd29bcc"
      },
      "execution_count": null,
      "outputs": [
        {
          "output_type": "stream",
          "name": "stdout",
          "text": [
            "(67921, 279)\n"
          ]
        },
        {
          "output_type": "execute_result",
          "data": {
            "text/plain": [
              "name     Accel World  Afro Samurai  Air  Air Gear  Akame ga Kill!  Akira  \\\n",
              "user_id                                                                    \n",
              "1                NaN           NaN  NaN       NaN             NaN    NaN   \n",
              "2                NaN           NaN  NaN       NaN             NaN    NaN   \n",
              "3                7.0           6.0  NaN       NaN             8.0    NaN   \n",
              "5                3.0           NaN  NaN       NaN             4.0    8.0   \n",
              "7                8.0           NaN  NaN       NaN             NaN    NaN   \n",
              "\n",
              "name     Aldnoah.Zero  Amagi Brilliant Park  Angel Beats!  \\\n",
              "user_id                                                     \n",
              "1                 NaN                   NaN           NaN   \n",
              "2                 NaN                   NaN           NaN   \n",
              "3                 7.0                   NaN           NaN   \n",
              "5                 NaN                   6.0           3.0   \n",
              "7                 NaN                   NaN           NaN   \n",
              "\n",
              "name     Angel Beats!: Another Epilogue  ...  \\\n",
              "user_id                                  ...   \n",
              "1                                   NaN  ...   \n",
              "2                                   NaN  ...   \n",
              "3                                   NaN  ...   \n",
              "5                                   NaN  ...   \n",
              "7                                   NaN  ...   \n",
              "\n",
              "name     Yahari Ore no Seishun Love Comedy wa Machigatteiru.  \\\n",
              "user_id                                                        \n",
              "1                                                      NaN     \n",
              "2                                                      NaN     \n",
              "3                                                      NaN     \n",
              "5                                                      3.0     \n",
              "7                                                      NaN     \n",
              "\n",
              "name     Yahari Ore no Seishun Love Comedy wa Machigatteiru. Zoku  \\\n",
              "user_id                                                             \n",
              "1                                                      NaN          \n",
              "2                                                      NaN          \n",
              "3                                                      NaN          \n",
              "5                                                      4.0          \n",
              "7                                                      NaN          \n",
              "\n",
              "name     Yosuga no Sora: In Solitude, Where We Are Least Alone.  \\\n",
              "user_id                                                           \n",
              "1                                                      NaN        \n",
              "2                                                      NaN        \n",
              "3                                                      NaN        \n",
              "5                                                      NaN        \n",
              "7                                                      7.0        \n",
              "\n",
              "name     Yuu☆Yuu☆Hakusho  Zankyou no Terror  Zero no Tsukaima  \\\n",
              "user_id                                                         \n",
              "1                    NaN                NaN               NaN   \n",
              "2                    NaN                NaN               NaN   \n",
              "3                    NaN                NaN               NaN   \n",
              "5                    7.0                NaN               1.0   \n",
              "7                    NaN                NaN               NaN   \n",
              "\n",
              "name     Zero no Tsukaima F  Zero no Tsukaima: Futatsuki no Kishi  \\\n",
              "user_id                                                             \n",
              "1                       NaN                                   NaN   \n",
              "2                       NaN                                   NaN   \n",
              "3                       NaN                                   NaN   \n",
              "5                       1.0                                   1.0   \n",
              "7                       NaN                                   NaN   \n",
              "\n",
              "name     Zero no Tsukaima: Princesses no Rondo  Zetsuen no Tempest  \n",
              "user_id                                                             \n",
              "1                                          NaN                 NaN  \n",
              "2                                          NaN                 NaN  \n",
              "3                                          NaN                 8.0  \n",
              "5                                          1.0                 NaN  \n",
              "7                                          NaN                 NaN  \n",
              "\n",
              "[5 rows x 279 columns]"
            ],
            "text/html": [
              "\n",
              "  <div id=\"df-8f362279-e5fd-4b7a-a2b0-2fa450c7c9f5\">\n",
              "    <div class=\"colab-df-container\">\n",
              "      <div>\n",
              "<style scoped>\n",
              "    .dataframe tbody tr th:only-of-type {\n",
              "        vertical-align: middle;\n",
              "    }\n",
              "\n",
              "    .dataframe tbody tr th {\n",
              "        vertical-align: top;\n",
              "    }\n",
              "\n",
              "    .dataframe thead th {\n",
              "        text-align: right;\n",
              "    }\n",
              "</style>\n",
              "<table border=\"1\" class=\"dataframe\">\n",
              "  <thead>\n",
              "    <tr style=\"text-align: right;\">\n",
              "      <th>name</th>\n",
              "      <th>Accel World</th>\n",
              "      <th>Afro Samurai</th>\n",
              "      <th>Air</th>\n",
              "      <th>Air Gear</th>\n",
              "      <th>Akame ga Kill!</th>\n",
              "      <th>Akira</th>\n",
              "      <th>Aldnoah.Zero</th>\n",
              "      <th>Amagi Brilliant Park</th>\n",
              "      <th>Angel Beats!</th>\n",
              "      <th>Angel Beats!: Another Epilogue</th>\n",
              "      <th>...</th>\n",
              "      <th>Yahari Ore no Seishun Love Comedy wa Machigatteiru.</th>\n",
              "      <th>Yahari Ore no Seishun Love Comedy wa Machigatteiru. Zoku</th>\n",
              "      <th>Yosuga no Sora: In Solitude, Where We Are Least Alone.</th>\n",
              "      <th>Yuu☆Yuu☆Hakusho</th>\n",
              "      <th>Zankyou no Terror</th>\n",
              "      <th>Zero no Tsukaima</th>\n",
              "      <th>Zero no Tsukaima F</th>\n",
              "      <th>Zero no Tsukaima: Futatsuki no Kishi</th>\n",
              "      <th>Zero no Tsukaima: Princesses no Rondo</th>\n",
              "      <th>Zetsuen no Tempest</th>\n",
              "    </tr>\n",
              "    <tr>\n",
              "      <th>user_id</th>\n",
              "      <th></th>\n",
              "      <th></th>\n",
              "      <th></th>\n",
              "      <th></th>\n",
              "      <th></th>\n",
              "      <th></th>\n",
              "      <th></th>\n",
              "      <th></th>\n",
              "      <th></th>\n",
              "      <th></th>\n",
              "      <th></th>\n",
              "      <th></th>\n",
              "      <th></th>\n",
              "      <th></th>\n",
              "      <th></th>\n",
              "      <th></th>\n",
              "      <th></th>\n",
              "      <th></th>\n",
              "      <th></th>\n",
              "      <th></th>\n",
              "      <th></th>\n",
              "    </tr>\n",
              "  </thead>\n",
              "  <tbody>\n",
              "    <tr>\n",
              "      <th>1</th>\n",
              "      <td>NaN</td>\n",
              "      <td>NaN</td>\n",
              "      <td>NaN</td>\n",
              "      <td>NaN</td>\n",
              "      <td>NaN</td>\n",
              "      <td>NaN</td>\n",
              "      <td>NaN</td>\n",
              "      <td>NaN</td>\n",
              "      <td>NaN</td>\n",
              "      <td>NaN</td>\n",
              "      <td>...</td>\n",
              "      <td>NaN</td>\n",
              "      <td>NaN</td>\n",
              "      <td>NaN</td>\n",
              "      <td>NaN</td>\n",
              "      <td>NaN</td>\n",
              "      <td>NaN</td>\n",
              "      <td>NaN</td>\n",
              "      <td>NaN</td>\n",
              "      <td>NaN</td>\n",
              "      <td>NaN</td>\n",
              "    </tr>\n",
              "    <tr>\n",
              "      <th>2</th>\n",
              "      <td>NaN</td>\n",
              "      <td>NaN</td>\n",
              "      <td>NaN</td>\n",
              "      <td>NaN</td>\n",
              "      <td>NaN</td>\n",
              "      <td>NaN</td>\n",
              "      <td>NaN</td>\n",
              "      <td>NaN</td>\n",
              "      <td>NaN</td>\n",
              "      <td>NaN</td>\n",
              "      <td>...</td>\n",
              "      <td>NaN</td>\n",
              "      <td>NaN</td>\n",
              "      <td>NaN</td>\n",
              "      <td>NaN</td>\n",
              "      <td>NaN</td>\n",
              "      <td>NaN</td>\n",
              "      <td>NaN</td>\n",
              "      <td>NaN</td>\n",
              "      <td>NaN</td>\n",
              "      <td>NaN</td>\n",
              "    </tr>\n",
              "    <tr>\n",
              "      <th>3</th>\n",
              "      <td>7.0</td>\n",
              "      <td>6.0</td>\n",
              "      <td>NaN</td>\n",
              "      <td>NaN</td>\n",
              "      <td>8.0</td>\n",
              "      <td>NaN</td>\n",
              "      <td>7.0</td>\n",
              "      <td>NaN</td>\n",
              "      <td>NaN</td>\n",
              "      <td>NaN</td>\n",
              "      <td>...</td>\n",
              "      <td>NaN</td>\n",
              "      <td>NaN</td>\n",
              "      <td>NaN</td>\n",
              "      <td>NaN</td>\n",
              "      <td>NaN</td>\n",
              "      <td>NaN</td>\n",
              "      <td>NaN</td>\n",
              "      <td>NaN</td>\n",
              "      <td>NaN</td>\n",
              "      <td>8.0</td>\n",
              "    </tr>\n",
              "    <tr>\n",
              "      <th>5</th>\n",
              "      <td>3.0</td>\n",
              "      <td>NaN</td>\n",
              "      <td>NaN</td>\n",
              "      <td>NaN</td>\n",
              "      <td>4.0</td>\n",
              "      <td>8.0</td>\n",
              "      <td>NaN</td>\n",
              "      <td>6.0</td>\n",
              "      <td>3.0</td>\n",
              "      <td>NaN</td>\n",
              "      <td>...</td>\n",
              "      <td>3.0</td>\n",
              "      <td>4.0</td>\n",
              "      <td>NaN</td>\n",
              "      <td>7.0</td>\n",
              "      <td>NaN</td>\n",
              "      <td>1.0</td>\n",
              "      <td>1.0</td>\n",
              "      <td>1.0</td>\n",
              "      <td>1.0</td>\n",
              "      <td>NaN</td>\n",
              "    </tr>\n",
              "    <tr>\n",
              "      <th>7</th>\n",
              "      <td>8.0</td>\n",
              "      <td>NaN</td>\n",
              "      <td>NaN</td>\n",
              "      <td>NaN</td>\n",
              "      <td>NaN</td>\n",
              "      <td>NaN</td>\n",
              "      <td>NaN</td>\n",
              "      <td>NaN</td>\n",
              "      <td>NaN</td>\n",
              "      <td>NaN</td>\n",
              "      <td>...</td>\n",
              "      <td>NaN</td>\n",
              "      <td>NaN</td>\n",
              "      <td>7.0</td>\n",
              "      <td>NaN</td>\n",
              "      <td>NaN</td>\n",
              "      <td>NaN</td>\n",
              "      <td>NaN</td>\n",
              "      <td>NaN</td>\n",
              "      <td>NaN</td>\n",
              "      <td>NaN</td>\n",
              "    </tr>\n",
              "  </tbody>\n",
              "</table>\n",
              "<p>5 rows × 279 columns</p>\n",
              "</div>\n",
              "      <button class=\"colab-df-convert\" onclick=\"convertToInteractive('df-8f362279-e5fd-4b7a-a2b0-2fa450c7c9f5')\"\n",
              "              title=\"Convert this dataframe to an interactive table.\"\n",
              "              style=\"display:none;\">\n",
              "        \n",
              "  <svg xmlns=\"http://www.w3.org/2000/svg\" height=\"24px\"viewBox=\"0 0 24 24\"\n",
              "       width=\"24px\">\n",
              "    <path d=\"M0 0h24v24H0V0z\" fill=\"none\"/>\n",
              "    <path d=\"M18.56 5.44l.94 2.06.94-2.06 2.06-.94-2.06-.94-.94-2.06-.94 2.06-2.06.94zm-11 1L8.5 8.5l.94-2.06 2.06-.94-2.06-.94L8.5 2.5l-.94 2.06-2.06.94zm10 10l.94 2.06.94-2.06 2.06-.94-2.06-.94-.94-2.06-.94 2.06-2.06.94z\"/><path d=\"M17.41 7.96l-1.37-1.37c-.4-.4-.92-.59-1.43-.59-.52 0-1.04.2-1.43.59L10.3 9.45l-7.72 7.72c-.78.78-.78 2.05 0 2.83L4 21.41c.39.39.9.59 1.41.59.51 0 1.02-.2 1.41-.59l7.78-7.78 2.81-2.81c.8-.78.8-2.07 0-2.86zM5.41 20L4 18.59l7.72-7.72 1.47 1.35L5.41 20z\"/>\n",
              "  </svg>\n",
              "      </button>\n",
              "      \n",
              "  <style>\n",
              "    .colab-df-container {\n",
              "      display:flex;\n",
              "      flex-wrap:wrap;\n",
              "      gap: 12px;\n",
              "    }\n",
              "\n",
              "    .colab-df-convert {\n",
              "      background-color: #E8F0FE;\n",
              "      border: none;\n",
              "      border-radius: 50%;\n",
              "      cursor: pointer;\n",
              "      display: none;\n",
              "      fill: #1967D2;\n",
              "      height: 32px;\n",
              "      padding: 0 0 0 0;\n",
              "      width: 32px;\n",
              "    }\n",
              "\n",
              "    .colab-df-convert:hover {\n",
              "      background-color: #E2EBFA;\n",
              "      box-shadow: 0px 1px 2px rgba(60, 64, 67, 0.3), 0px 1px 3px 1px rgba(60, 64, 67, 0.15);\n",
              "      fill: #174EA6;\n",
              "    }\n",
              "\n",
              "    [theme=dark] .colab-df-convert {\n",
              "      background-color: #3B4455;\n",
              "      fill: #D2E3FC;\n",
              "    }\n",
              "\n",
              "    [theme=dark] .colab-df-convert:hover {\n",
              "      background-color: #434B5C;\n",
              "      box-shadow: 0px 1px 3px 1px rgba(0, 0, 0, 0.15);\n",
              "      filter: drop-shadow(0px 1px 2px rgba(0, 0, 0, 0.3));\n",
              "      fill: #FFFFFF;\n",
              "    }\n",
              "  </style>\n",
              "\n",
              "      <script>\n",
              "        const buttonEl =\n",
              "          document.querySelector('#df-8f362279-e5fd-4b7a-a2b0-2fa450c7c9f5 button.colab-df-convert');\n",
              "        buttonEl.style.display =\n",
              "          google.colab.kernel.accessAllowed ? 'block' : 'none';\n",
              "\n",
              "        async function convertToInteractive(key) {\n",
              "          const element = document.querySelector('#df-8f362279-e5fd-4b7a-a2b0-2fa450c7c9f5');\n",
              "          const dataTable =\n",
              "            await google.colab.kernel.invokeFunction('convertToInteractive',\n",
              "                                                     [key], {});\n",
              "          if (!dataTable) return;\n",
              "\n",
              "          const docLinkHtml = 'Like what you see? Visit the ' +\n",
              "            '<a target=\"_blank\" href=https://colab.research.google.com/notebooks/data_table.ipynb>data table notebook</a>'\n",
              "            + ' to learn more about interactive tables.';\n",
              "          element.innerHTML = '';\n",
              "          dataTable['output_type'] = 'display_data';\n",
              "          await google.colab.output.renderOutput(dataTable, element);\n",
              "          const docLink = document.createElement('div');\n",
              "          docLink.innerHTML = docLinkHtml;\n",
              "          element.appendChild(docLink);\n",
              "        }\n",
              "      </script>\n",
              "    </div>\n",
              "  </div>\n",
              "  "
            ]
          },
          "metadata": {},
          "execution_count": 25
        }
      ]
    },
    {
      "cell_type": "code",
      "source": [
        "# Note: As we are subtracting the mean from each rating to standardize\n",
        "# all users with only one rating or who had rated everything the same will be dropped\n",
        "\n",
        "# Normalize the values\n",
        "df_recom_norm = df_recom.apply(lambda x: (x-np.mean(x))/(np.max(x)-np.min(x)), axis=1)\n",
        "\n",
        "\n",
        "# Drop all columns containing only zeros representing users who did not rate\n",
        "df_recom_norm.fillna(0, inplace=True)\n",
        "df_recom_norm = df_recom_norm.T\n",
        "df_recom_norm = df_recom_norm.loc[:, (df_recom_norm != 0).any(axis=0)]"
      ],
      "metadata": {
        "id": "eOg4FqOEqaKl"
      },
      "execution_count": null,
      "outputs": []
    },
    {
      "cell_type": "code",
      "source": [
        "df_recom_sparse = sp.sparse.csr_matrix(df_recom_norm.values)"
      ],
      "metadata": {
        "id": "O7_B50gAp45O"
      },
      "execution_count": null,
      "outputs": []
    },
    {
      "cell_type": "markdown",
      "source": [
        "Cosine similarity matrix "
      ],
      "metadata": {
        "id": "rWkIxD3RqH5N"
      }
    },
    {
      "cell_type": "code",
      "source": [
        "item_similarity = cosine_similarity(df_recom_sparse)\n",
        "user_similarity = cosine_similarity(df_recom_sparse.T)"
      ],
      "metadata": {
        "id": "1t8y-_vAqKxH"
      },
      "execution_count": null,
      "outputs": []
    },
    {
      "cell_type": "code",
      "source": [
        "item_sim_df = pd.DataFrame(item_similarity, index = df_recom_norm.index, columns = df_recom_norm.index)\n",
        "user_sim_df = pd.DataFrame(user_similarity, index = df_recom_norm.columns, columns = df_recom_norm.columns)"
      ],
      "metadata": {
        "id": "kjeMXHQMrS0W"
      },
      "execution_count": null,
      "outputs": []
    },
    {
      "cell_type": "code",
      "source": [
        "df_r.name.value_counts().head(20)"
      ],
      "metadata": {
        "id": "TpPTvZ-tnKdt"
      },
      "execution_count": null,
      "outputs": []
    },
    {
      "cell_type": "code",
      "source": [
        "def top_animes(anime_name):\n",
        "    count = 1\n",
        "    print('Similar shows to {} include:\\n'.format(anime_name))\n",
        "    for item in item_sim_df.sort_values(by = anime_name, ascending = False).index[1:11]:\n",
        "        print('No. {}: {}'.format(count, item))\n",
        "        count +=1  "
      ],
      "metadata": {
        "id": "p99Ed3Adr2y-"
      },
      "execution_count": null,
      "outputs": []
    },
    {
      "cell_type": "code",
      "source": [
        "# This function will return the top 5 users with the highest similarity value \n",
        "\n",
        "def top_users(user):\n",
        "    \n",
        "    if user not in piv_norm.columns:\n",
        "        return('No data available on user {}'.format(user))\n",
        "    \n",
        "    print('Most Similar Users:\\n')\n",
        "    sim_values = user_sim_df.sort_values(by=user, ascending=False).loc[:,user].tolist()[1:11]\n",
        "    sim_users = user_sim_df.sort_values(by=user, ascending=False).index[1:11]\n",
        "    zipped = zip(sim_users, sim_values,)\n",
        "    for user, sim in zipped:\n",
        "        print('User #{0}, Similarity value: {1:.2f}'.format(user, sim)) "
      ],
      "metadata": {
        "id": "Vd2O2u6kr61G"
      },
      "execution_count": null,
      "outputs": []
    },
    {
      "cell_type": "code",
      "source": [
        "# This function constructs a list of lists containing the highest rated shows per similar user\n",
        "# and returns the name of the show along with the frequency it appears in the list\n",
        "\n",
        "def similar_user_recs(user):\n",
        "    \n",
        "    if user not in piv_norm.columns:\n",
        "        return('No data available on user {}'.format(user))\n",
        "    \n",
        "    sim_users = user_sim_df.sort_values(by=user, ascending=False).index[1:11]\n",
        "    best = []\n",
        "    most_common = {}\n",
        "    \n",
        "    for i in sim_users:\n",
        "        max_score = piv_norm.loc[:, i].max()\n",
        "        best.append(piv_norm[piv_norm.loc[:, i]==max_score].index.tolist())\n",
        "    for i in range(len(best)):\n",
        "        for j in best[i]:\n",
        "            if j in most_common:\n",
        "                most_common[j] += 1\n",
        "            else:\n",
        "                most_common[j] = 1\n",
        "    sorted_list = sorted(most_common.items(), key=operator.itemgetter(1), reverse=True)\n",
        "    return sorted_list[:5] "
      ],
      "metadata": {
        "id": "__EHrXthszj4"
      },
      "execution_count": null,
      "outputs": []
    },
    {
      "cell_type": "markdown",
      "source": [
        "Content-based Filtering"
      ],
      "metadata": {
        "id": "n-OC-GZvry9W"
      }
    },
    {
      "cell_type": "code",
      "source": [
        "def find_corr(df, name):\n",
        "    '''\n",
        "    Get the correlation of one anime with the others\n",
        "    \n",
        "    Args\n",
        "        df (DataFrame):  with user_id as rows and movie titles as column and ratings as values\n",
        "        name (str): Name of the anime\n",
        "    \n",
        "    Return\n",
        "        DataFrame with the correlation of the anime with all others\n",
        "    '''\n",
        "    \n",
        "    similar_to_movie = df.corrwith(df[name])\n",
        "    similar_to_movie = pd.DataFrame(similar_to_movie,columns=['Correlation'])\n",
        "    similar_to_movie = similar_to_movie.sort_values(by = 'Correlation', ascending = False)\n",
        "    return similar_to_movie"
      ],
      "metadata": {
        "id": "c-nTZF4onP7M"
      },
      "execution_count": null,
      "outputs": []
    },
    {
      "cell_type": "markdown",
      "source": [
        "**Recommendation**"
      ],
      "metadata": {
        "id": "XInPQUyinYIz"
      }
    },
    {
      "cell_type": "code",
      "source": [
        "anime = input(str(\"Enter anime name: \"))\n",
        "\n",
        "# Recommendations\n",
        "find_corr(df_recom, anime).head(40)"
      ],
      "metadata": {
        "id": "FXFIXdL3nbWc"
      },
      "execution_count": null,
      "outputs": []
    },
    {
      "cell_type": "code",
      "source": [
        "# Not recommended\n",
        "find_corr(df_recom, anime).tail(40)"
      ],
      "metadata": {
        "id": "plEak_Osnm9k"
      },
      "execution_count": null,
      "outputs": []
    }
  ]
}